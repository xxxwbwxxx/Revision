{
 "cells": [
  {
   "cell_type": "code",
   "execution_count": 8,
   "metadata": {},
   "outputs": [
    {
     "name": "stdout",
     "output_type": "stream",
     "text": [
      "1 -> 2 -> 3 -> 4 -> 5 -> 6 - > None\n",
      "1 -> 2 -> 4 -> 5 -> 6 - > None\n",
      "0 -> 1 -> 2 -> 4 -> 5 -> 6 - > None\n",
      "5 -> 4 -> 2 -> 1 -> 0 - > None\n"
     ]
    }
   ],
   "source": [
    "class Nodes:\n",
    "    def __init__(self, data):\n",
    "        self.data = data\n",
    "        self.next = None\n",
    "\n",
    "class SinglyLinkedList:\n",
    "    def __init__(self):\n",
    "        self.head = None\n",
    "    def append(self, data):\n",
    "        new_node = Nodes(data)\n",
    "        if not self.head:\n",
    "            self.head = new_node\n",
    "            return\n",
    "        else:\n",
    "            last = self.head\n",
    "            while last.next:\n",
    "                last = last.next\n",
    "            last.next = new_node\n",
    "    def insert_at_beginning(self, data):\n",
    "        new_node = Nodes(data)\n",
    "        new_node.next = self.head\n",
    "        self.head = new_node\n",
    "    def delete_by_value(self, val):\n",
    "        if not self.head:\n",
    "            return\n",
    "        if self.head.data == val:\n",
    "            self.head = self.head.next\n",
    "        current = self.head\n",
    "        while current.next:\n",
    "            if current.next.data == val:\n",
    "                current.next = current.next.next\n",
    "                return\n",
    "            current = current.next\n",
    "    \n",
    "    def display(self):\n",
    "        current = self.head\n",
    "        while current.next:\n",
    "            print(current.data, end=' -> ')\n",
    "            current = current.next\n",
    "        print(current.data, end=' - > None')\n",
    "        print()\n",
    "\n",
    "    def reverse(self):\n",
    "        current = self.head\n",
    "        prev = None\n",
    "        while current.next:\n",
    "            temp_next = current.next\n",
    "            current.next = prev\n",
    "            prev = current\n",
    "            current = temp_next\n",
    "        self.head = prev\n",
    "\n",
    "test = SinglyLinkedList()\n",
    "test.append(1)\n",
    "test.append(2)\n",
    "test.append(3)\n",
    "test.append(4)\n",
    "test.append(5)\n",
    "test.append(6)\n",
    "test.display()\n",
    "test.delete_by_value(3)\n",
    "test.display()\n",
    "test.insert_at_beginning(0)\n",
    "test.display()\n",
    "test.reverse()\n",
    "test.display()\n",
    "\n",
    "\n",
    "\n",
    "\n",
    "            \n"
   ]
  }
 ],
 "metadata": {
  "kernelspec": {
   "display_name": "base",
   "language": "python",
   "name": "python3"
  },
  "language_info": {
   "codemirror_mode": {
    "name": "ipython",
    "version": 3
   },
   "file_extension": ".py",
   "mimetype": "text/x-python",
   "name": "python",
   "nbconvert_exporter": "python",
   "pygments_lexer": "ipython3",
   "version": "3.12.4"
  }
 },
 "nbformat": 4,
 "nbformat_minor": 2
}
